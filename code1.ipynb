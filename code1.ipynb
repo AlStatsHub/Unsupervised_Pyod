{
 "cells": [
  {
   "cell_type": "markdown",
   "id": "40886f63",
   "metadata": {
    "papermill": {
     "duration": 0.00665,
     "end_time": "2024-04-15T19:21:25.677455",
     "exception": false,
     "start_time": "2024-04-15T19:21:25.670805",
     "status": "completed"
    },
    "tags": []
   },
   "source": [
    "## **New Dynamic Code**:\n",
    "15-April, 2024"
   ]
  },
  {
   "cell_type": "code",
   "execution_count": 1,
   "id": "2d79468e",
   "metadata": {
    "execution": {
     "iopub.execute_input": "2024-04-15T19:21:25.691784Z",
     "iopub.status.busy": "2024-04-15T19:21:25.691230Z",
     "iopub.status.idle": "2024-04-15T19:21:54.137332Z",
     "shell.execute_reply": "2024-04-15T19:21:54.136201Z"
    },
    "papermill": {
     "duration": 28.45643,
     "end_time": "2024-04-15T19:21:54.140149",
     "exception": false,
     "start_time": "2024-04-15T19:21:25.683719",
     "status": "completed"
    },
    "tags": []
   },
   "outputs": [],
   "source": [
    "# Install pyod\n",
    "!pip install pyod -q\n",
    "\n",
    "import os\n",
    "from datetime import datetime\n",
    "import numpy as np\n",
    "import pandas as pd\n",
    "\n",
    "from scipy.stats import ttest_ind\n",
    "from sklearn.preprocessing import MinMaxScaler\n",
    "\n",
    "# Import pyod modules one by one\n",
    "from pyod.models.pca import PCA\n",
    "from pyod.models.ecod import ECOD\n",
    "from pyod.models.cblof import CBLOF\n",
    "from pyod.models.hbos import HBOS\n",
    "# from pyod.models.knn import KNN\n",
    "from pyod.models.copod import COPOD\n",
    "from pyod.models.gmm import GMM\n",
    "from pyod.models.loda import LODA\n",
    "from pyod.models.iforest import IForest\n",
    "\n",
    "RANDOM_SEED = 42\n",
    "np.random.seed(RANDOM_SEED)"
   ]
  },
  {
   "cell_type": "markdown",
   "id": "7f653504",
   "metadata": {
    "papermill": {
     "duration": 0.005828,
     "end_time": "2024-04-15T19:21:54.151721",
     "exception": false,
     "start_time": "2024-04-15T19:21:54.145893",
     "status": "completed"
    },
    "tags": []
   },
   "source": [
    "#### Helper functions"
   ]
  },
  {
   "cell_type": "code",
   "execution_count": 2,
   "id": "cdfecf34",
   "metadata": {
    "execution": {
     "iopub.execute_input": "2024-04-15T19:21:54.166105Z",
     "iopub.status.busy": "2024-04-15T19:21:54.164970Z",
     "iopub.status.idle": "2024-04-15T19:21:54.193078Z",
     "shell.execute_reply": "2024-04-15T19:21:54.191506Z"
    },
    "papermill": {
     "duration": 0.038572,
     "end_time": "2024-04-15T19:21:54.196186",
     "exception": false,
     "start_time": "2024-04-15T19:21:54.157614",
     "status": "completed"
    },
    "tags": []
   },
   "outputs": [],
   "source": [
    "def combine_dataframes(dataframes):\n",
    "    # Concatenate the dataframes into a single dataframe\n",
    "    df_combined = pd.concat(dataframes, axis=1)\n",
    "    \n",
    "    # Generate column names based on a pattern\n",
    "    df_combined.columns = [dfs[i].columns[0] for i in range(len(dataframes))]\n",
    "\n",
    "    # Remove rows with NaN values\n",
    "    df_combined = df_combined.dropna()\n",
    "\n",
    "    # Add a new column named 'time'\n",
    "    number_points = len(df_combined)\n",
    "    dt = 1 / 2999\n",
    "    start = 0\n",
    "    points = [start + i * dt for i in range(number_points)]\n",
    "    df_combined['time'] = points\n",
    "    \n",
    "    return df_combined\n",
    "\n",
    "def split_groups(df):\n",
    "    # Extract the rows for the first group (0 to 300)\n",
    "    group1 = df[df['time']<=300]\n",
    "\n",
    "    # Extract the rows for the second group (1500 to 1800)\n",
    "    group2 = df[(df['time'] >= 1500) & (df['time'] <= 1800)]\n",
    "    \n",
    "    return group1, group2\n",
    "\n",
    "# List of auxiliary functions\n",
    "def fit_and_get_scores(model, data):\n",
    "    model.fit(data)\n",
    "    decision_scores = model.decision_scores_\n",
    "    return model, decision_scores\n",
    "\n",
    "def scale_and_average_scores(scores_df):\n",
    "    # Set random seed for reproducibility\n",
    "    np.random.seed(42)\n",
    "    scaler = MinMaxScaler()\n",
    "    scaled_scores = scaler.fit_transform(scores_df[['PCA', 'ECOD', 'CBLOF', 'HBOS',  'COPOD', 'GMM', 'LODA', 'IForest']])\n",
    "    scores_df[['PCA', 'ECOD', 'CBLOF', 'HBOS',  'COPOD', 'GMM', 'LODA', 'IForest' ]] = scaled_scores\n",
    "    scores_df['Average_Score'] = scores_df[['PCA', 'ECOD', 'CBLOF', 'HBOS',  'COPOD', 'GMM', 'LODA', 'IForest']].mean(axis=1)\n",
    "    return scores_df\n",
    "\n",
    "def display_and_style_df(df, title):\n",
    "    # Reset the index to display correctly\n",
    "    df.reset_index(drop=True, inplace=True)\n",
    "\n",
    "    # Display DataFrame with both data and styled caption\n",
    "    display(pd.DataFrame(df).style.set_caption(title).format(\"{:.2f}\"))\n",
    "\n",
    "def process_group_scores(group_df ):\n",
    "    RANDOM_SEED = 42\n",
    "    np.random.seed(RANDOM_SEED)\n",
    "    \n",
    "    # Create instances of PyOD models\n",
    "    models = [\n",
    "        PCA(),\n",
    "        ECOD(),\n",
    "        CBLOF(n_jobs=-1),\n",
    "        HBOS(),\n",
    "        # KNN(n_jobs=-1),\n",
    "        COPOD(),\n",
    "        GMM(),\n",
    "        LODA(),\n",
    "        IForest(n_jobs=-1)\n",
    "    ]\n",
    "\n",
    "    # Set random state for models that support it\n",
    "    for model in models:\n",
    "        if hasattr(model, 'random_state'):\n",
    "            model.random_state = RANDOM_SEED\n",
    "    \n",
    "    \n",
    "    scores_before_scale = pd.DataFrame()\n",
    "\n",
    "    for model in models:\n",
    "        model_name = model.__class__.__name__\n",
    "        print(model_name)\n",
    "        _, scores = fit_and_get_scores(model, group_df.values.reshape(-1, 1))\n",
    "        scores_before_scale[model_name] = scores\n",
    "\n",
    "    scores_before_scale['Average_Score'] = scores_before_scale.mean(axis=1)\n",
    "\n",
    "    # Concatenate the toy data DataFrame with the scores DataFrame and display it\n",
    "    display_df_before_scale = pd.concat([group_df, scores_before_scale], axis=1)\n",
    "\n",
    "    scores_after_scale = scale_and_average_scores(scores_before_scale.copy())\n",
    "\n",
    "    # Concatenate the toy data DataFrame with the scaled scores DataFrame and display it\n",
    "    display_df_after_scale = pd.concat([group_df, scores_after_scale], axis=1)\n",
    "\n",
    "    return display_df_before_scale, display_df_after_scale\n",
    "\n",
    "\n",
    "def stack_columns_except_time(df):\n",
    "    stacked_df = pd.concat([df[column] for column in df.columns if column != 'time'], ignore_index=True)\n",
    "    return stacked_df\n",
    "\n",
    "def before_after_split(dfs):\n",
    "    wr_df = combine_dataframes(dfs)\n",
    "    wr_df.sort_index(axis=1, inplace=True)\n",
    "    print('\\n\\n--- DF | Head & Tail---\\n\\n')\n",
    "    print('Shapes: ',wr_df.shape)\n",
    "    display(wr_df.head(2),wr_df.tail(2))\n",
    "    \n",
    "    \n",
    "    wr_group1, wr_group2 = split_groups(wr_df)\n",
    "    print('\\n\\n--- Group 1 | Groupd 2 | Tail---\\n\\n')\n",
    "    print('Shapes: ',wr_group1.shape, wr_group2.shape)\n",
    "    display(wr_group1.tail(2),wr_group2.tail(2))\n",
    "    \n",
    "    stack_before_5_min = stack_columns_except_time(wr_group1)\n",
    "    stack_after_30_min = stack_columns_except_time(wr_group2)\n",
    "    print('\\n\\n--- 5 Min | 30 Min | Tail---\\n\\n')\n",
    "    print('Shapes: ',stack_before_5_min.shape, stack_after_30_min.shape)\n",
    "    display(stack_before_5_min.tail(2),' ',stack_after_30_min.tail(2))\n",
    "    \n",
    "    return stack_before_5_min, stack_after_30_min\n",
    "    \n"
   ]
  },
  {
   "cell_type": "code",
   "execution_count": 3,
   "id": "bd3b3227",
   "metadata": {
    "execution": {
     "iopub.execute_input": "2024-04-15T19:21:54.213011Z",
     "iopub.status.busy": "2024-04-15T19:21:54.212445Z",
     "iopub.status.idle": "2024-04-15T19:21:55.345584Z",
     "shell.execute_reply": "2024-04-15T19:21:55.344116Z"
    },
    "papermill": {
     "duration": 1.145029,
     "end_time": "2024-04-15T19:21:55.348302",
     "exception": false,
     "start_time": "2024-04-15T19:21:54.203273",
     "status": "completed"
    },
    "tags": []
   },
   "outputs": [
    {
     "name": "stdout",
     "output_type": "stream",
     "text": [
      "CH1-wr\tCH2-wr\tCH3-wr\tCH4-wr\r\n"
     ]
    }
   ],
   "source": [
    "main_path = '/kaggle/input/zara-analysis-wr/zara-analysis/'\n",
    "!ls /kaggle/input/zara-analysis-wr/zara-analysis"
   ]
  },
  {
   "cell_type": "markdown",
   "id": "3f50a7c5",
   "metadata": {
    "papermill": {
     "duration": 0.005471,
     "end_time": "2024-04-15T19:21:55.359648",
     "exception": false,
     "start_time": "2024-04-15T19:21:55.354177",
     "status": "completed"
    },
    "tags": []
   },
   "source": [
    "# Figure i)"
   ]
  },
  {
   "cell_type": "code",
   "execution_count": 4,
   "id": "1bdce188",
   "metadata": {
    "execution": {
     "iopub.execute_input": "2024-04-15T19:21:55.373945Z",
     "iopub.status.busy": "2024-04-15T19:21:55.373219Z",
     "iopub.status.idle": "2024-04-15T19:21:55.379823Z",
     "shell.execute_reply": "2024-04-15T19:21:55.378558Z"
    },
    "papermill": {
     "duration": 0.017749,
     "end_time": "2024-04-15T19:21:55.383190",
     "exception": false,
     "start_time": "2024-04-15T19:21:55.365441",
     "status": "completed"
    },
    "tags": []
   },
   "outputs": [],
   "source": [
    "import os\n",
    "\n",
    "os.makedirs('/kaggle/working/fig1/')\n",
    "for folder in ['CH1-wr','CH2-wr','CH3-wr','CH4-wr']:\n",
    "    os.makedirs('/kaggle/working/fig1/'+folder)"
   ]
  },
  {
   "cell_type": "code",
   "execution_count": 5,
   "id": "a755917c",
   "metadata": {
    "execution": {
     "iopub.execute_input": "2024-04-15T19:21:55.397124Z",
     "iopub.status.busy": "2024-04-15T19:21:55.396706Z",
     "iopub.status.idle": "2024-04-15T20:45:57.534436Z",
     "shell.execute_reply": "2024-04-15T20:45:57.530588Z"
    },
    "papermill": {
     "duration": 5042.149464,
     "end_time": "2024-04-15T20:45:57.538413",
     "exception": false,
     "start_time": "2024-04-15T19:21:55.388949",
     "status": "completed"
    },
    "tags": []
   },
   "outputs": [
    {
     "name": "stdout",
     "output_type": "stream",
     "text": [
      "CH1-wr\n",
      "['WR17Ch1.txt', 'WR20Ch1.txt', 'WR16Ch1.txt', 'WR18Ch1.txt', 'WR19Ch1.txt']\n",
      "\n",
      "\n",
      "--- DF | Head & Tail---\n",
      "\n",
      "\n",
      "Shapes:  (6327228, 6)\n"
     ]
    },
    {
     "data": {
      "text/html": [
       "<div>\n",
       "<style scoped>\n",
       "    .dataframe tbody tr th:only-of-type {\n",
       "        vertical-align: middle;\n",
       "    }\n",
       "\n",
       "    .dataframe tbody tr th {\n",
       "        vertical-align: top;\n",
       "    }\n",
       "\n",
       "    .dataframe thead th {\n",
       "        text-align: right;\n",
       "    }\n",
       "</style>\n",
       "<table border=\"1\" class=\"dataframe\">\n",
       "  <thead>\n",
       "    <tr style=\"text-align: right;\">\n",
       "      <th></th>\n",
       "      <th>WR16Ch1.txt</th>\n",
       "      <th>WR17Ch1.txt</th>\n",
       "      <th>WR18Ch1.txt</th>\n",
       "      <th>WR19Ch1.txt</th>\n",
       "      <th>WR20Ch1.txt</th>\n",
       "      <th>time</th>\n",
       "    </tr>\n",
       "  </thead>\n",
       "  <tbody>\n",
       "    <tr>\n",
       "      <th>0</th>\n",
       "      <td>258.4224</td>\n",
       "      <td>280.8238</td>\n",
       "      <td>268.0998</td>\n",
       "      <td>267.5622</td>\n",
       "      <td>272.7593</td>\n",
       "      <td>0.000000</td>\n",
       "    </tr>\n",
       "    <tr>\n",
       "      <th>1</th>\n",
       "      <td>252.6877</td>\n",
       "      <td>277.4188</td>\n",
       "      <td>265.4117</td>\n",
       "      <td>272.2217</td>\n",
       "      <td>271.5048</td>\n",
       "      <td>0.000333</td>\n",
       "    </tr>\n",
       "  </tbody>\n",
       "</table>\n",
       "</div>"
      ],
      "text/plain": [
       "   WR16Ch1.txt  WR17Ch1.txt  WR18Ch1.txt  WR19Ch1.txt  WR20Ch1.txt      time\n",
       "0     258.4224     280.8238     268.0998     267.5622     272.7593  0.000000\n",
       "1     252.6877     277.4188     265.4117     272.2217     271.5048  0.000333"
      ]
     },
     "metadata": {},
     "output_type": "display_data"
    },
    {
     "data": {
      "text/html": [
       "<div>\n",
       "<style scoped>\n",
       "    .dataframe tbody tr th:only-of-type {\n",
       "        vertical-align: middle;\n",
       "    }\n",
       "\n",
       "    .dataframe tbody tr th {\n",
       "        vertical-align: top;\n",
       "    }\n",
       "\n",
       "    .dataframe thead th {\n",
       "        text-align: right;\n",
       "    }\n",
       "</style>\n",
       "<table border=\"1\" class=\"dataframe\">\n",
       "  <thead>\n",
       "    <tr style=\"text-align: right;\">\n",
       "      <th></th>\n",
       "      <th>WR16Ch1.txt</th>\n",
       "      <th>WR17Ch1.txt</th>\n",
       "      <th>WR18Ch1.txt</th>\n",
       "      <th>WR19Ch1.txt</th>\n",
       "      <th>WR20Ch1.txt</th>\n",
       "      <th>time</th>\n",
       "    </tr>\n",
       "  </thead>\n",
       "  <tbody>\n",
       "    <tr>\n",
       "      <th>6327226</th>\n",
       "      <td>270.6088</td>\n",
       "      <td>258.4224</td>\n",
       "      <td>270.4296</td>\n",
       "      <td>272.5801</td>\n",
       "      <td>273.1177</td>\n",
       "      <td>2109.778593</td>\n",
       "    </tr>\n",
       "    <tr>\n",
       "      <th>6327227</th>\n",
       "      <td>265.4117</td>\n",
       "      <td>259.8561</td>\n",
       "      <td>266.6661</td>\n",
       "      <td>270.2504</td>\n",
       "      <td>265.0532</td>\n",
       "      <td>2109.778926</td>\n",
       "    </tr>\n",
       "  </tbody>\n",
       "</table>\n",
       "</div>"
      ],
      "text/plain": [
       "         WR16Ch1.txt  WR17Ch1.txt  WR18Ch1.txt  WR19Ch1.txt  WR20Ch1.txt  \\\n",
       "6327226     270.6088     258.4224     270.4296     272.5801     273.1177   \n",
       "6327227     265.4117     259.8561     266.6661     270.2504     265.0532   \n",
       "\n",
       "                time  \n",
       "6327226  2109.778593  \n",
       "6327227  2109.778926  "
      ]
     },
     "metadata": {},
     "output_type": "display_data"
    },
    {
     "name": "stdout",
     "output_type": "stream",
     "text": [
      "\n",
      "\n",
      "--- Group 1 | Groupd 2 | Tail---\n",
      "\n",
      "\n",
      "Shapes:  (899701, 6) (899701, 6)\n"
     ]
    },
    {
     "data": {
      "text/html": [
       "<div>\n",
       "<style scoped>\n",
       "    .dataframe tbody tr th:only-of-type {\n",
       "        vertical-align: middle;\n",
       "    }\n",
       "\n",
       "    .dataframe tbody tr th {\n",
       "        vertical-align: top;\n",
       "    }\n",
       "\n",
       "    .dataframe thead th {\n",
       "        text-align: right;\n",
       "    }\n",
       "</style>\n",
       "<table border=\"1\" class=\"dataframe\">\n",
       "  <thead>\n",
       "    <tr style=\"text-align: right;\">\n",
       "      <th></th>\n",
       "      <th>WR16Ch1.txt</th>\n",
       "      <th>WR17Ch1.txt</th>\n",
       "      <th>WR18Ch1.txt</th>\n",
       "      <th>WR19Ch1.txt</th>\n",
       "      <th>WR20Ch1.txt</th>\n",
       "      <th>time</th>\n",
       "    </tr>\n",
       "  </thead>\n",
       "  <tbody>\n",
       "    <tr>\n",
       "      <th>899699</th>\n",
       "      <td>272.9385</td>\n",
       "      <td>271.5048</td>\n",
       "      <td>274.3722</td>\n",
       "      <td>270.788</td>\n",
       "      <td>267.3830</td>\n",
       "      <td>299.999667</td>\n",
       "    </tr>\n",
       "    <tr>\n",
       "      <th>899700</th>\n",
       "      <td>265.2324</td>\n",
       "      <td>272.5801</td>\n",
       "      <td>268.9959</td>\n",
       "      <td>260.573</td>\n",
       "      <td>263.6195</td>\n",
       "      <td>300.000000</td>\n",
       "    </tr>\n",
       "  </tbody>\n",
       "</table>\n",
       "</div>"
      ],
      "text/plain": [
       "        WR16Ch1.txt  WR17Ch1.txt  WR18Ch1.txt  WR19Ch1.txt  WR20Ch1.txt  \\\n",
       "899699     272.9385     271.5048     274.3722      270.788     267.3830   \n",
       "899700     265.2324     272.5801     268.9959      260.573     263.6195   \n",
       "\n",
       "              time  \n",
       "899699  299.999667  \n",
       "899700  300.000000  "
      ]
     },
     "metadata": {},
     "output_type": "display_data"
    },
    {
     "data": {
      "text/html": [
       "<div>\n",
       "<style scoped>\n",
       "    .dataframe tbody tr th:only-of-type {\n",
       "        vertical-align: middle;\n",
       "    }\n",
       "\n",
       "    .dataframe tbody tr th {\n",
       "        vertical-align: top;\n",
       "    }\n",
       "\n",
       "    .dataframe thead th {\n",
       "        text-align: right;\n",
       "    }\n",
       "</style>\n",
       "<table border=\"1\" class=\"dataframe\">\n",
       "  <thead>\n",
       "    <tr style=\"text-align: right;\">\n",
       "      <th></th>\n",
       "      <th>WR16Ch1.txt</th>\n",
       "      <th>WR17Ch1.txt</th>\n",
       "      <th>WR18Ch1.txt</th>\n",
       "      <th>WR19Ch1.txt</th>\n",
       "      <th>WR20Ch1.txt</th>\n",
       "      <th>time</th>\n",
       "    </tr>\n",
       "  </thead>\n",
       "  <tbody>\n",
       "    <tr>\n",
       "      <th>5398199</th>\n",
       "      <td>273.1177</td>\n",
       "      <td>269.1751</td>\n",
       "      <td>269.3543</td>\n",
       "      <td>267.5622</td>\n",
       "      <td>269.7127</td>\n",
       "      <td>1799.999667</td>\n",
       "    </tr>\n",
       "    <tr>\n",
       "      <th>5398200</th>\n",
       "      <td>273.4762</td>\n",
       "      <td>266.1285</td>\n",
       "      <td>266.3077</td>\n",
       "      <td>273.1177</td>\n",
       "      <td>271.3256</td>\n",
       "      <td>1800.000000</td>\n",
       "    </tr>\n",
       "  </tbody>\n",
       "</table>\n",
       "</div>"
      ],
      "text/plain": [
       "         WR16Ch1.txt  WR17Ch1.txt  WR18Ch1.txt  WR19Ch1.txt  WR20Ch1.txt  \\\n",
       "5398199     273.1177     269.1751     269.3543     267.5622     269.7127   \n",
       "5398200     273.4762     266.1285     266.3077     273.1177     271.3256   \n",
       "\n",
       "                time  \n",
       "5398199  1799.999667  \n",
       "5398200  1800.000000  "
      ]
     },
     "metadata": {},
     "output_type": "display_data"
    },
    {
     "name": "stdout",
     "output_type": "stream",
     "text": [
      "\n",
      "\n",
      "--- 5 Min | 30 Min | Tail---\n",
      "\n",
      "\n",
      "Shapes:  (4498505,) (4498505,)\n"
     ]
    },
    {
     "data": {
      "text/plain": [
       "4498503    267.3830\n",
       "4498504    263.6195\n",
       "dtype: float64"
      ]
     },
     "metadata": {},
     "output_type": "display_data"
    },
    {
     "data": {
      "text/plain": [
       "' '"
      ]
     },
     "metadata": {},
     "output_type": "display_data"
    },
    {
     "data": {
      "text/plain": [
       "4498503    269.7127\n",
       "4498504    271.3256\n",
       "dtype: float64"
      ]
     },
     "metadata": {},
     "output_type": "display_data"
    },
    {
     "name": "stdout",
     "output_type": "stream",
     "text": [
      "Before 5 min\n",
      "Current time: 2024-04-15 19:22:08\n",
      "PCA\n",
      "ECOD\n",
      "CBLOF\n"
     ]
    },
    {
     "name": "stderr",
     "output_type": "stream",
     "text": [
      "/opt/conda/lib/python3.10/site-packages/sklearn/cluster/_kmeans.py:870: FutureWarning: The default value of `n_init` will change from 10 to 'auto' in 1.4. Set the value of `n_init` explicitly to suppress the warning\n",
      "  warnings.warn(\n"
     ]
    },
    {
     "name": "stdout",
     "output_type": "stream",
     "text": [
      "HBOS\n",
      "COPOD\n",
      "GMM\n",
      "LODA\n",
      "IForest\n",
      "After 30 min\n",
      "Current time: 2024-04-15 19:31:45\n",
      "PCA\n",
      "ECOD\n",
      "CBLOF\n"
     ]
    },
    {
     "name": "stderr",
     "output_type": "stream",
     "text": [
      "/opt/conda/lib/python3.10/site-packages/sklearn/cluster/_kmeans.py:870: FutureWarning: The default value of `n_init` will change from 10 to 'auto' in 1.4. Set the value of `n_init` explicitly to suppress the warning\n",
      "  warnings.warn(\n"
     ]
    },
    {
     "name": "stdout",
     "output_type": "stream",
     "text": [
      "HBOS\n",
      "COPOD\n",
      "GMM\n",
      "LODA\n",
      "IForest\n",
      "CH2-wr\n",
      "['WR19Ch2.txt', 'WR18Ch2.txt', 'WR16Ch2.txt', 'WR17Ch2.txt', 'WR20Ch2.txt']\n",
      "\n",
      "\n",
      "--- DF | Head & Tail---\n",
      "\n",
      "\n",
      "Shapes:  (6327228, 6)\n"
     ]
    },
    {
     "data": {
      "text/html": [
       "<div>\n",
       "<style scoped>\n",
       "    .dataframe tbody tr th:only-of-type {\n",
       "        vertical-align: middle;\n",
       "    }\n",
       "\n",
       "    .dataframe tbody tr th {\n",
       "        vertical-align: top;\n",
       "    }\n",
       "\n",
       "    .dataframe thead th {\n",
       "        text-align: right;\n",
       "    }\n",
       "</style>\n",
       "<table border=\"1\" class=\"dataframe\">\n",
       "  <thead>\n",
       "    <tr style=\"text-align: right;\">\n",
       "      <th></th>\n",
       "      <th>WR16Ch2.txt</th>\n",
       "      <th>WR17Ch2.txt</th>\n",
       "      <th>WR18Ch2.txt</th>\n",
       "      <th>WR19Ch2.txt</th>\n",
       "      <th>WR20Ch2.txt</th>\n",
       "      <th>time</th>\n",
       "    </tr>\n",
       "  </thead>\n",
       "  <tbody>\n",
       "    <tr>\n",
       "      <th>0</th>\n",
       "      <td>275.4475</td>\n",
       "      <td>268.0998</td>\n",
       "      <td>238.8884</td>\n",
       "      <td>274.3722</td>\n",
       "      <td>272.2217</td>\n",
       "      <td>0.000000</td>\n",
       "    </tr>\n",
       "    <tr>\n",
       "      <th>1</th>\n",
       "      <td>275.2683</td>\n",
       "      <td>267.9206</td>\n",
       "      <td>241.0389</td>\n",
       "      <td>269.5335</td>\n",
       "      <td>271.6840</td>\n",
       "      <td>0.000333</td>\n",
       "    </tr>\n",
       "  </tbody>\n",
       "</table>\n",
       "</div>"
      ],
      "text/plain": [
       "   WR16Ch2.txt  WR17Ch2.txt  WR18Ch2.txt  WR19Ch2.txt  WR20Ch2.txt      time\n",
       "0     275.4475     268.0998     238.8884     274.3722     272.2217  0.000000\n",
       "1     275.2683     267.9206     241.0389     269.5335     271.6840  0.000333"
      ]
     },
     "metadata": {},
     "output_type": "display_data"
    },
    {
     "data": {
      "text/html": [
       "<div>\n",
       "<style scoped>\n",
       "    .dataframe tbody tr th:only-of-type {\n",
       "        vertical-align: middle;\n",
       "    }\n",
       "\n",
       "    .dataframe tbody tr th {\n",
       "        vertical-align: top;\n",
       "    }\n",
       "\n",
       "    .dataframe thead th {\n",
       "        text-align: right;\n",
       "    }\n",
       "</style>\n",
       "<table border=\"1\" class=\"dataframe\">\n",
       "  <thead>\n",
       "    <tr style=\"text-align: right;\">\n",
       "      <th></th>\n",
       "      <th>WR16Ch2.txt</th>\n",
       "      <th>WR17Ch2.txt</th>\n",
       "      <th>WR18Ch2.txt</th>\n",
       "      <th>WR19Ch2.txt</th>\n",
       "      <th>WR20Ch2.txt</th>\n",
       "      <th>time</th>\n",
       "    </tr>\n",
       "  </thead>\n",
       "  <tbody>\n",
       "    <tr>\n",
       "      <th>6327226</th>\n",
       "      <td>267.2038</td>\n",
       "      <td>269.3543</td>\n",
       "      <td>272.4009</td>\n",
       "      <td>265.7701</td>\n",
       "      <td>273.2969</td>\n",
       "      <td>2109.778593</td>\n",
       "    </tr>\n",
       "    <tr>\n",
       "      <th>6327227</th>\n",
       "      <td>268.6375</td>\n",
       "      <td>267.9206</td>\n",
       "      <td>266.4869</td>\n",
       "      <td>267.3830</td>\n",
       "      <td>268.6375</td>\n",
       "      <td>2109.778926</td>\n",
       "    </tr>\n",
       "  </tbody>\n",
       "</table>\n",
       "</div>"
      ],
      "text/plain": [
       "         WR16Ch2.txt  WR17Ch2.txt  WR18Ch2.txt  WR19Ch2.txt  WR20Ch2.txt  \\\n",
       "6327226     267.2038     269.3543     272.4009     265.7701     273.2969   \n",
       "6327227     268.6375     267.9206     266.4869     267.3830     268.6375   \n",
       "\n",
       "                time  \n",
       "6327226  2109.778593  \n",
       "6327227  2109.778926  "
      ]
     },
     "metadata": {},
     "output_type": "display_data"
    },
    {
     "name": "stdout",
     "output_type": "stream",
     "text": [
      "\n",
      "\n",
      "--- Group 1 | Groupd 2 | Tail---\n",
      "\n",
      "\n",
      "Shapes:  (899701, 6) (899701, 6)\n"
     ]
    },
    {
     "data": {
      "text/html": [
       "<div>\n",
       "<style scoped>\n",
       "    .dataframe tbody tr th:only-of-type {\n",
       "        vertical-align: middle;\n",
       "    }\n",
       "\n",
       "    .dataframe tbody tr th {\n",
       "        vertical-align: top;\n",
       "    }\n",
       "\n",
       "    .dataframe thead th {\n",
       "        text-align: right;\n",
       "    }\n",
       "</style>\n",
       "<table border=\"1\" class=\"dataframe\">\n",
       "  <thead>\n",
       "    <tr style=\"text-align: right;\">\n",
       "      <th></th>\n",
       "      <th>WR16Ch2.txt</th>\n",
       "      <th>WR17Ch2.txt</th>\n",
       "      <th>WR18Ch2.txt</th>\n",
       "      <th>WR19Ch2.txt</th>\n",
       "      <th>WR20Ch2.txt</th>\n",
       "      <th>time</th>\n",
       "    </tr>\n",
       "  </thead>\n",
       "  <tbody>\n",
       "    <tr>\n",
       "      <th>899699</th>\n",
       "      <td>261.2898</td>\n",
       "      <td>272.4009</td>\n",
       "      <td>246.7737</td>\n",
       "      <td>269.3543</td>\n",
       "      <td>271.6840</td>\n",
       "      <td>299.999667</td>\n",
       "    </tr>\n",
       "    <tr>\n",
       "      <th>899700</th>\n",
       "      <td>267.9206</td>\n",
       "      <td>272.9385</td>\n",
       "      <td>252.5085</td>\n",
       "      <td>269.1751</td>\n",
       "      <td>271.1464</td>\n",
       "      <td>300.000000</td>\n",
       "    </tr>\n",
       "  </tbody>\n",
       "</table>\n",
       "</div>"
      ],
      "text/plain": [
       "        WR16Ch2.txt  WR17Ch2.txt  WR18Ch2.txt  WR19Ch2.txt  WR20Ch2.txt  \\\n",
       "899699     261.2898     272.4009     246.7737     269.3543     271.6840   \n",
       "899700     267.9206     272.9385     252.5085     269.1751     271.1464   \n",
       "\n",
       "              time  \n",
       "899699  299.999667  \n",
       "899700  300.000000  "
      ]
     },
     "metadata": {},
     "output_type": "display_data"
    },
    {
     "data": {
      "text/html": [
       "<div>\n",
       "<style scoped>\n",
       "    .dataframe tbody tr th:only-of-type {\n",
       "        vertical-align: middle;\n",
       "    }\n",
       "\n",
       "    .dataframe tbody tr th {\n",
       "        vertical-align: top;\n",
       "    }\n",
       "\n",
       "    .dataframe thead th {\n",
       "        text-align: right;\n",
       "    }\n",
       "</style>\n",
       "<table border=\"1\" class=\"dataframe\">\n",
       "  <thead>\n",
       "    <tr style=\"text-align: right;\">\n",
       "      <th></th>\n",
       "      <th>WR16Ch2.txt</th>\n",
       "      <th>WR17Ch2.txt</th>\n",
       "      <th>WR18Ch2.txt</th>\n",
       "      <th>WR19Ch2.txt</th>\n",
       "      <th>WR20Ch2.txt</th>\n",
       "      <th>time</th>\n",
       "    </tr>\n",
       "  </thead>\n",
       "  <tbody>\n",
       "    <tr>\n",
       "      <th>5398199</th>\n",
       "      <td>266.4869</td>\n",
       "      <td>263.978</td>\n",
       "      <td>267.9206</td>\n",
       "      <td>267.2038</td>\n",
       "      <td>265.7701</td>\n",
       "      <td>1799.999667</td>\n",
       "    </tr>\n",
       "    <tr>\n",
       "      <th>5398200</th>\n",
       "      <td>268.9959</td>\n",
       "      <td>264.874</td>\n",
       "      <td>272.5801</td>\n",
       "      <td>271.5048</td>\n",
       "      <td>265.4117</td>\n",
       "      <td>1800.000000</td>\n",
       "    </tr>\n",
       "  </tbody>\n",
       "</table>\n",
       "</div>"
      ],
      "text/plain": [
       "         WR16Ch2.txt  WR17Ch2.txt  WR18Ch2.txt  WR19Ch2.txt  WR20Ch2.txt  \\\n",
       "5398199     266.4869      263.978     267.9206     267.2038     265.7701   \n",
       "5398200     268.9959      264.874     272.5801     271.5048     265.4117   \n",
       "\n",
       "                time  \n",
       "5398199  1799.999667  \n",
       "5398200  1800.000000  "
      ]
     },
     "metadata": {},
     "output_type": "display_data"
    },
    {
     "name": "stdout",
     "output_type": "stream",
     "text": [
      "\n",
      "\n",
      "--- 5 Min | 30 Min | Tail---\n",
      "\n",
      "\n",
      "Shapes:  (4498505,) (4498505,)\n"
     ]
    },
    {
     "data": {
      "text/plain": [
       "4498503    271.6840\n",
       "4498504    271.1464\n",
       "dtype: float64"
      ]
     },
     "metadata": {},
     "output_type": "display_data"
    },
    {
     "data": {
      "text/plain": [
       "' '"
      ]
     },
     "metadata": {},
     "output_type": "display_data"
    },
    {
     "data": {
      "text/plain": [
       "4498503    265.7701\n",
       "4498504    265.4117\n",
       "dtype: float64"
      ]
     },
     "metadata": {},
     "output_type": "display_data"
    },
    {
     "name": "stdout",
     "output_type": "stream",
     "text": [
      "Before 5 min\n",
      "Current time: 2024-04-15 19:42:24\n",
      "PCA\n",
      "ECOD\n",
      "CBLOF\n"
     ]
    },
    {
     "name": "stderr",
     "output_type": "stream",
     "text": [
      "/opt/conda/lib/python3.10/site-packages/sklearn/cluster/_kmeans.py:870: FutureWarning: The default value of `n_init` will change from 10 to 'auto' in 1.4. Set the value of `n_init` explicitly to suppress the warning\n",
      "  warnings.warn(\n"
     ]
    },
    {
     "name": "stdout",
     "output_type": "stream",
     "text": [
      "HBOS\n",
      "COPOD\n",
      "GMM\n",
      "LODA\n",
      "IForest\n",
      "After 30 min\n",
      "Current time: 2024-04-15 19:52:33\n",
      "PCA\n",
      "ECOD\n",
      "CBLOF\n"
     ]
    },
    {
     "name": "stderr",
     "output_type": "stream",
     "text": [
      "/opt/conda/lib/python3.10/site-packages/sklearn/cluster/_kmeans.py:870: FutureWarning: The default value of `n_init` will change from 10 to 'auto' in 1.4. Set the value of `n_init` explicitly to suppress the warning\n",
      "  warnings.warn(\n"
     ]
    },
    {
     "name": "stdout",
     "output_type": "stream",
     "text": [
      "HBOS\n",
      "COPOD\n",
      "GMM\n",
      "LODA\n",
      "IForest\n",
      "CH3-wr\n",
      "['WR16Ch3.txt', 'WR18Ch3.txt', 'WR20Ch3.txt', 'WR19Ch3.txt', 'WR17Ch3.txt']\n",
      "\n",
      "\n",
      "--- DF | Head & Tail---\n",
      "\n",
      "\n",
      "Shapes:  (6327228, 6)\n"
     ]
    },
    {
     "data": {
      "text/html": [
       "<div>\n",
       "<style scoped>\n",
       "    .dataframe tbody tr th:only-of-type {\n",
       "        vertical-align: middle;\n",
       "    }\n",
       "\n",
       "    .dataframe tbody tr th {\n",
       "        vertical-align: top;\n",
       "    }\n",
       "\n",
       "    .dataframe thead th {\n",
       "        text-align: right;\n",
       "    }\n",
       "</style>\n",
       "<table border=\"1\" class=\"dataframe\">\n",
       "  <thead>\n",
       "    <tr style=\"text-align: right;\">\n",
       "      <th></th>\n",
       "      <th>WR16Ch3.txt</th>\n",
       "      <th>WR17Ch3.txt</th>\n",
       "      <th>WR18Ch3.txt</th>\n",
       "      <th>WR19Ch3.txt</th>\n",
       "      <th>WR20Ch3.txt</th>\n",
       "      <th>time</th>\n",
       "    </tr>\n",
       "  </thead>\n",
       "  <tbody>\n",
       "    <tr>\n",
       "      <th>0</th>\n",
       "      <td>271.1464</td>\n",
       "      <td>268.9959</td>\n",
       "      <td>293.7270</td>\n",
       "      <td>283.5120</td>\n",
       "      <td>266.8453</td>\n",
       "      <td>0.000000</td>\n",
       "    </tr>\n",
       "    <tr>\n",
       "      <th>1</th>\n",
       "      <td>270.2504</td>\n",
       "      <td>271.1464</td>\n",
       "      <td>301.2539</td>\n",
       "      <td>275.6267</td>\n",
       "      <td>265.2324</td>\n",
       "      <td>0.000333</td>\n",
       "    </tr>\n",
       "  </tbody>\n",
       "</table>\n",
       "</div>"
      ],
      "text/plain": [
       "   WR16Ch3.txt  WR17Ch3.txt  WR18Ch3.txt  WR19Ch3.txt  WR20Ch3.txt      time\n",
       "0     271.1464     268.9959     293.7270     283.5120     266.8453  0.000000\n",
       "1     270.2504     271.1464     301.2539     275.6267     265.2324  0.000333"
      ]
     },
     "metadata": {},
     "output_type": "display_data"
    },
    {
     "data": {
      "text/html": [
       "<div>\n",
       "<style scoped>\n",
       "    .dataframe tbody tr th:only-of-type {\n",
       "        vertical-align: middle;\n",
       "    }\n",
       "\n",
       "    .dataframe tbody tr th {\n",
       "        vertical-align: top;\n",
       "    }\n",
       "\n",
       "    .dataframe thead th {\n",
       "        text-align: right;\n",
       "    }\n",
       "</style>\n",
       "<table border=\"1\" class=\"dataframe\">\n",
       "  <thead>\n",
       "    <tr style=\"text-align: right;\">\n",
       "      <th></th>\n",
       "      <th>WR16Ch3.txt</th>\n",
       "      <th>WR17Ch3.txt</th>\n",
       "      <th>WR18Ch3.txt</th>\n",
       "      <th>WR19Ch3.txt</th>\n",
       "      <th>WR20Ch3.txt</th>\n",
       "      <th>time</th>\n",
       "    </tr>\n",
       "  </thead>\n",
       "  <tbody>\n",
       "    <tr>\n",
       "      <th>6327226</th>\n",
       "      <td>267.0246</td>\n",
       "      <td>265.0532</td>\n",
       "      <td>268.6375</td>\n",
       "      <td>269.8919</td>\n",
       "      <td>267.0246</td>\n",
       "      <td>2109.778593</td>\n",
       "    </tr>\n",
       "    <tr>\n",
       "      <th>6327227</th>\n",
       "      <td>272.5801</td>\n",
       "      <td>270.2504</td>\n",
       "      <td>267.7414</td>\n",
       "      <td>271.5048</td>\n",
       "      <td>267.2038</td>\n",
       "      <td>2109.778926</td>\n",
       "    </tr>\n",
       "  </tbody>\n",
       "</table>\n",
       "</div>"
      ],
      "text/plain": [
       "         WR16Ch3.txt  WR17Ch3.txt  WR18Ch3.txt  WR19Ch3.txt  WR20Ch3.txt  \\\n",
       "6327226     267.0246     265.0532     268.6375     269.8919     267.0246   \n",
       "6327227     272.5801     270.2504     267.7414     271.5048     267.2038   \n",
       "\n",
       "                time  \n",
       "6327226  2109.778593  \n",
       "6327227  2109.778926  "
      ]
     },
     "metadata": {},
     "output_type": "display_data"
    },
    {
     "name": "stdout",
     "output_type": "stream",
     "text": [
      "\n",
      "\n",
      "--- Group 1 | Groupd 2 | Tail---\n",
      "\n",
      "\n",
      "Shapes:  (899701, 6) (899701, 6)\n"
     ]
    },
    {
     "data": {
      "text/html": [
       "<div>\n",
       "<style scoped>\n",
       "    .dataframe tbody tr th:only-of-type {\n",
       "        vertical-align: middle;\n",
       "    }\n",
       "\n",
       "    .dataframe tbody tr th {\n",
       "        vertical-align: top;\n",
       "    }\n",
       "\n",
       "    .dataframe thead th {\n",
       "        text-align: right;\n",
       "    }\n",
       "</style>\n",
       "<table border=\"1\" class=\"dataframe\">\n",
       "  <thead>\n",
       "    <tr style=\"text-align: right;\">\n",
       "      <th></th>\n",
       "      <th>WR16Ch3.txt</th>\n",
       "      <th>WR17Ch3.txt</th>\n",
       "      <th>WR18Ch3.txt</th>\n",
       "      <th>WR19Ch3.txt</th>\n",
       "      <th>WR20Ch3.txt</th>\n",
       "      <th>time</th>\n",
       "    </tr>\n",
       "  </thead>\n",
       "  <tbody>\n",
       "    <tr>\n",
       "      <th>899699</th>\n",
       "      <td>266.3077</td>\n",
       "      <td>240.3221</td>\n",
       "      <td>267.2038</td>\n",
       "      <td>286.9170</td>\n",
       "      <td>270.6088</td>\n",
       "      <td>299.999667</td>\n",
       "    </tr>\n",
       "    <tr>\n",
       "      <th>899700</th>\n",
       "      <td>273.8346</td>\n",
       "      <td>241.0389</td>\n",
       "      <td>262.5443</td>\n",
       "      <td>289.4259</td>\n",
       "      <td>265.0532</td>\n",
       "      <td>300.000000</td>\n",
       "    </tr>\n",
       "  </tbody>\n",
       "</table>\n",
       "</div>"
      ],
      "text/plain": [
       "        WR16Ch3.txt  WR17Ch3.txt  WR18Ch3.txt  WR19Ch3.txt  WR20Ch3.txt  \\\n",
       "899699     266.3077     240.3221     267.2038     286.9170     270.6088   \n",
       "899700     273.8346     241.0389     262.5443     289.4259     265.0532   \n",
       "\n",
       "              time  \n",
       "899699  299.999667  \n",
       "899700  300.000000  "
      ]
     },
     "metadata": {},
     "output_type": "display_data"
    },
    {
     "data": {
      "text/html": [
       "<div>\n",
       "<style scoped>\n",
       "    .dataframe tbody tr th:only-of-type {\n",
       "        vertical-align: middle;\n",
       "    }\n",
       "\n",
       "    .dataframe tbody tr th {\n",
       "        vertical-align: top;\n",
       "    }\n",
       "\n",
       "    .dataframe thead th {\n",
       "        text-align: right;\n",
       "    }\n",
       "</style>\n",
       "<table border=\"1\" class=\"dataframe\">\n",
       "  <thead>\n",
       "    <tr style=\"text-align: right;\">\n",
       "      <th></th>\n",
       "      <th>WR16Ch3.txt</th>\n",
       "      <th>WR17Ch3.txt</th>\n",
       "      <th>WR18Ch3.txt</th>\n",
       "      <th>WR19Ch3.txt</th>\n",
       "      <th>WR20Ch3.txt</th>\n",
       "      <th>time</th>\n",
       "    </tr>\n",
       "  </thead>\n",
       "  <tbody>\n",
       "    <tr>\n",
       "      <th>5398199</th>\n",
       "      <td>273.8346</td>\n",
       "      <td>271.684</td>\n",
       "      <td>274.9098</td>\n",
       "      <td>272.2217</td>\n",
       "      <td>267.3830</td>\n",
       "      <td>1799.999667</td>\n",
       "    </tr>\n",
       "    <tr>\n",
       "      <th>5398200</th>\n",
       "      <td>268.0998</td>\n",
       "      <td>271.684</td>\n",
       "      <td>272.5801</td>\n",
       "      <td>272.4009</td>\n",
       "      <td>263.4403</td>\n",
       "      <td>1800.000000</td>\n",
       "    </tr>\n",
       "  </tbody>\n",
       "</table>\n",
       "</div>"
      ],
      "text/plain": [
       "         WR16Ch3.txt  WR17Ch3.txt  WR18Ch3.txt  WR19Ch3.txt  WR20Ch3.txt  \\\n",
       "5398199     273.8346      271.684     274.9098     272.2217     267.3830   \n",
       "5398200     268.0998      271.684     272.5801     272.4009     263.4403   \n",
       "\n",
       "                time  \n",
       "5398199  1799.999667  \n",
       "5398200  1800.000000  "
      ]
     },
     "metadata": {},
     "output_type": "display_data"
    },
    {
     "name": "stdout",
     "output_type": "stream",
     "text": [
      "\n",
      "\n",
      "--- 5 Min | 30 Min | Tail---\n",
      "\n",
      "\n",
      "Shapes:  (4498505,) (4498505,)\n"
     ]
    },
    {
     "data": {
      "text/plain": [
       "4498503    270.6088\n",
       "4498504    265.0532\n",
       "dtype: float64"
      ]
     },
     "metadata": {},
     "output_type": "display_data"
    },
    {
     "data": {
      "text/plain": [
       "' '"
      ]
     },
     "metadata": {},
     "output_type": "display_data"
    },
    {
     "data": {
      "text/plain": [
       "4498503    267.3830\n",
       "4498504    263.4403\n",
       "dtype: float64"
      ]
     },
     "metadata": {},
     "output_type": "display_data"
    },
    {
     "name": "stdout",
     "output_type": "stream",
     "text": [
      "Before 5 min\n",
      "Current time: 2024-04-15 20:03:10\n",
      "PCA\n",
      "ECOD\n",
      "CBLOF\n"
     ]
    },
    {
     "name": "stderr",
     "output_type": "stream",
     "text": [
      "/opt/conda/lib/python3.10/site-packages/sklearn/cluster/_kmeans.py:870: FutureWarning: The default value of `n_init` will change from 10 to 'auto' in 1.4. Set the value of `n_init` explicitly to suppress the warning\n",
      "  warnings.warn(\n"
     ]
    },
    {
     "name": "stdout",
     "output_type": "stream",
     "text": [
      "HBOS\n",
      "COPOD\n",
      "GMM\n",
      "LODA\n",
      "IForest\n",
      "After 30 min\n",
      "Current time: 2024-04-15 20:13:37\n",
      "PCA\n",
      "ECOD\n",
      "CBLOF\n"
     ]
    },
    {
     "name": "stderr",
     "output_type": "stream",
     "text": [
      "/opt/conda/lib/python3.10/site-packages/sklearn/cluster/_kmeans.py:870: FutureWarning: The default value of `n_init` will change from 10 to 'auto' in 1.4. Set the value of `n_init` explicitly to suppress the warning\n",
      "  warnings.warn(\n"
     ]
    },
    {
     "name": "stdout",
     "output_type": "stream",
     "text": [
      "HBOS\n",
      "COPOD\n",
      "GMM\n",
      "LODA\n",
      "IForest\n",
      "CH4-wr\n",
      "['WR18Ch4.txt', 'WR19Ch4.txt', 'WR16Ch4.txt', 'WR17Ch4.txt', 'WR20Ch4.txt']\n",
      "\n",
      "\n",
      "--- DF | Head & Tail---\n",
      "\n",
      "\n",
      "Shapes:  (6327228, 6)\n"
     ]
    },
    {
     "data": {
      "text/html": [
       "<div>\n",
       "<style scoped>\n",
       "    .dataframe tbody tr th:only-of-type {\n",
       "        vertical-align: middle;\n",
       "    }\n",
       "\n",
       "    .dataframe tbody tr th {\n",
       "        vertical-align: top;\n",
       "    }\n",
       "\n",
       "    .dataframe thead th {\n",
       "        text-align: right;\n",
       "    }\n",
       "</style>\n",
       "<table border=\"1\" class=\"dataframe\">\n",
       "  <thead>\n",
       "    <tr style=\"text-align: right;\">\n",
       "      <th></th>\n",
       "      <th>WR16Ch4.txt</th>\n",
       "      <th>WR17Ch4.txt</th>\n",
       "      <th>WR18Ch4.txt</th>\n",
       "      <th>WR19Ch4.txt</th>\n",
       "      <th>WR20Ch4.txt</th>\n",
       "      <th>time</th>\n",
       "    </tr>\n",
       "  </thead>\n",
       "  <tbody>\n",
       "    <tr>\n",
       "      <th>0</th>\n",
       "      <td>279.3901</td>\n",
       "      <td>262.3651</td>\n",
       "      <td>285.6625</td>\n",
       "      <td>265.7701</td>\n",
       "      <td>277.5980</td>\n",
       "      <td>0.000000</td>\n",
       "    </tr>\n",
       "    <tr>\n",
       "      <th>1</th>\n",
       "      <td>279.2109</td>\n",
       "      <td>266.4869</td>\n",
       "      <td>284.4080</td>\n",
       "      <td>265.0532</td>\n",
       "      <td>270.9672</td>\n",
       "      <td>0.000333</td>\n",
       "    </tr>\n",
       "  </tbody>\n",
       "</table>\n",
       "</div>"
      ],
      "text/plain": [
       "   WR16Ch4.txt  WR17Ch4.txt  WR18Ch4.txt  WR19Ch4.txt  WR20Ch4.txt      time\n",
       "0     279.3901     262.3651     285.6625     265.7701     277.5980  0.000000\n",
       "1     279.2109     266.4869     284.4080     265.0532     270.9672  0.000333"
      ]
     },
     "metadata": {},
     "output_type": "display_data"
    },
    {
     "data": {
      "text/html": [
       "<div>\n",
       "<style scoped>\n",
       "    .dataframe tbody tr th:only-of-type {\n",
       "        vertical-align: middle;\n",
       "    }\n",
       "\n",
       "    .dataframe tbody tr th {\n",
       "        vertical-align: top;\n",
       "    }\n",
       "\n",
       "    .dataframe thead th {\n",
       "        text-align: right;\n",
       "    }\n",
       "</style>\n",
       "<table border=\"1\" class=\"dataframe\">\n",
       "  <thead>\n",
       "    <tr style=\"text-align: right;\">\n",
       "      <th></th>\n",
       "      <th>WR16Ch4.txt</th>\n",
       "      <th>WR17Ch4.txt</th>\n",
       "      <th>WR18Ch4.txt</th>\n",
       "      <th>WR19Ch4.txt</th>\n",
       "      <th>WR20Ch4.txt</th>\n",
       "      <th>time</th>\n",
       "    </tr>\n",
       "  </thead>\n",
       "  <tbody>\n",
       "    <tr>\n",
       "      <th>6327226</th>\n",
       "      <td>266.6661</td>\n",
       "      <td>265.4117</td>\n",
       "      <td>273.2969</td>\n",
       "      <td>266.1285</td>\n",
       "      <td>271.1464</td>\n",
       "      <td>2109.778593</td>\n",
       "    </tr>\n",
       "    <tr>\n",
       "      <th>6327227</th>\n",
       "      <td>268.8167</td>\n",
       "      <td>263.9780</td>\n",
       "      <td>269.5335</td>\n",
       "      <td>270.2504</td>\n",
       "      <td>267.0246</td>\n",
       "      <td>2109.778926</td>\n",
       "    </tr>\n",
       "  </tbody>\n",
       "</table>\n",
       "</div>"
      ],
      "text/plain": [
       "         WR16Ch4.txt  WR17Ch4.txt  WR18Ch4.txt  WR19Ch4.txt  WR20Ch4.txt  \\\n",
       "6327226     266.6661     265.4117     273.2969     266.1285     271.1464   \n",
       "6327227     268.8167     263.9780     269.5335     270.2504     267.0246   \n",
       "\n",
       "                time  \n",
       "6327226  2109.778593  \n",
       "6327227  2109.778926  "
      ]
     },
     "metadata": {},
     "output_type": "display_data"
    },
    {
     "name": "stdout",
     "output_type": "stream",
     "text": [
      "\n",
      "\n",
      "--- Group 1 | Groupd 2 | Tail---\n",
      "\n",
      "\n",
      "Shapes:  (899701, 6) (899701, 6)\n"
     ]
    },
    {
     "data": {
      "text/html": [
       "<div>\n",
       "<style scoped>\n",
       "    .dataframe tbody tr th:only-of-type {\n",
       "        vertical-align: middle;\n",
       "    }\n",
       "\n",
       "    .dataframe tbody tr th {\n",
       "        vertical-align: top;\n",
       "    }\n",
       "\n",
       "    .dataframe thead th {\n",
       "        text-align: right;\n",
       "    }\n",
       "</style>\n",
       "<table border=\"1\" class=\"dataframe\">\n",
       "  <thead>\n",
       "    <tr style=\"text-align: right;\">\n",
       "      <th></th>\n",
       "      <th>WR16Ch4.txt</th>\n",
       "      <th>WR17Ch4.txt</th>\n",
       "      <th>WR18Ch4.txt</th>\n",
       "      <th>WR19Ch4.txt</th>\n",
       "      <th>WR20Ch4.txt</th>\n",
       "      <th>time</th>\n",
       "    </tr>\n",
       "  </thead>\n",
       "  <tbody>\n",
       "    <tr>\n",
       "      <th>899699</th>\n",
       "      <td>271.3256</td>\n",
       "      <td>266.3077</td>\n",
       "      <td>267.5622</td>\n",
       "      <td>264.6948</td>\n",
       "      <td>278.1356</td>\n",
       "      <td>299.999667</td>\n",
       "    </tr>\n",
       "    <tr>\n",
       "      <th>899700</th>\n",
       "      <td>269.3543</td>\n",
       "      <td>269.5335</td>\n",
       "      <td>266.8453</td>\n",
       "      <td>266.4869</td>\n",
       "      <td>273.8346</td>\n",
       "      <td>300.000000</td>\n",
       "    </tr>\n",
       "  </tbody>\n",
       "</table>\n",
       "</div>"
      ],
      "text/plain": [
       "        WR16Ch4.txt  WR17Ch4.txt  WR18Ch4.txt  WR19Ch4.txt  WR20Ch4.txt  \\\n",
       "899699     271.3256     266.3077     267.5622     264.6948     278.1356   \n",
       "899700     269.3543     269.5335     266.8453     266.4869     273.8346   \n",
       "\n",
       "              time  \n",
       "899699  299.999667  \n",
       "899700  300.000000  "
      ]
     },
     "metadata": {},
     "output_type": "display_data"
    },
    {
     "data": {
      "text/html": [
       "<div>\n",
       "<style scoped>\n",
       "    .dataframe tbody tr th:only-of-type {\n",
       "        vertical-align: middle;\n",
       "    }\n",
       "\n",
       "    .dataframe tbody tr th {\n",
       "        vertical-align: top;\n",
       "    }\n",
       "\n",
       "    .dataframe thead th {\n",
       "        text-align: right;\n",
       "    }\n",
       "</style>\n",
       "<table border=\"1\" class=\"dataframe\">\n",
       "  <thead>\n",
       "    <tr style=\"text-align: right;\">\n",
       "      <th></th>\n",
       "      <th>WR16Ch4.txt</th>\n",
       "      <th>WR17Ch4.txt</th>\n",
       "      <th>WR18Ch4.txt</th>\n",
       "      <th>WR19Ch4.txt</th>\n",
       "      <th>WR20Ch4.txt</th>\n",
       "      <th>time</th>\n",
       "    </tr>\n",
       "  </thead>\n",
       "  <tbody>\n",
       "    <tr>\n",
       "      <th>5398199</th>\n",
       "      <td>265.5909</td>\n",
       "      <td>267.2038</td>\n",
       "      <td>267.9206</td>\n",
       "      <td>264.3364</td>\n",
       "      <td>265.7701</td>\n",
       "      <td>1799.999667</td>\n",
       "    </tr>\n",
       "    <tr>\n",
       "      <th>5398200</th>\n",
       "      <td>261.8274</td>\n",
       "      <td>270.6088</td>\n",
       "      <td>266.8453</td>\n",
       "      <td>264.8740</td>\n",
       "      <td>268.9959</td>\n",
       "      <td>1800.000000</td>\n",
       "    </tr>\n",
       "  </tbody>\n",
       "</table>\n",
       "</div>"
      ],
      "text/plain": [
       "         WR16Ch4.txt  WR17Ch4.txt  WR18Ch4.txt  WR19Ch4.txt  WR20Ch4.txt  \\\n",
       "5398199     265.5909     267.2038     267.9206     264.3364     265.7701   \n",
       "5398200     261.8274     270.6088     266.8453     264.8740     268.9959   \n",
       "\n",
       "                time  \n",
       "5398199  1799.999667  \n",
       "5398200  1800.000000  "
      ]
     },
     "metadata": {},
     "output_type": "display_data"
    },
    {
     "name": "stdout",
     "output_type": "stream",
     "text": [
      "\n",
      "\n",
      "--- 5 Min | 30 Min | Tail---\n",
      "\n",
      "\n",
      "Shapes:  (4498505,) (4498505,)\n"
     ]
    },
    {
     "data": {
      "text/plain": [
       "4498503    278.1356\n",
       "4498504    273.8346\n",
       "dtype: float64"
      ]
     },
     "metadata": {},
     "output_type": "display_data"
    },
    {
     "data": {
      "text/plain": [
       "' '"
      ]
     },
     "metadata": {},
     "output_type": "display_data"
    },
    {
     "data": {
      "text/plain": [
       "4498503    265.7701\n",
       "4498504    268.9959\n",
       "dtype: float64"
      ]
     },
     "metadata": {},
     "output_type": "display_data"
    },
    {
     "name": "stdout",
     "output_type": "stream",
     "text": [
      "Before 5 min\n",
      "Current time: 2024-04-15 20:24:29\n",
      "PCA\n",
      "ECOD\n",
      "CBLOF\n"
     ]
    },
    {
     "name": "stderr",
     "output_type": "stream",
     "text": [
      "/opt/conda/lib/python3.10/site-packages/sklearn/cluster/_kmeans.py:870: FutureWarning: The default value of `n_init` will change from 10 to 'auto' in 1.4. Set the value of `n_init` explicitly to suppress the warning\n",
      "  warnings.warn(\n"
     ]
    },
    {
     "name": "stdout",
     "output_type": "stream",
     "text": [
      "HBOS\n",
      "COPOD\n",
      "GMM\n",
      "LODA\n",
      "IForest\n",
      "After 30 min\n",
      "Current time: 2024-04-15 20:35:10\n",
      "PCA\n",
      "ECOD\n",
      "CBLOF\n"
     ]
    },
    {
     "name": "stderr",
     "output_type": "stream",
     "text": [
      "/opt/conda/lib/python3.10/site-packages/sklearn/cluster/_kmeans.py:870: FutureWarning: The default value of `n_init` will change from 10 to 'auto' in 1.4. Set the value of `n_init` explicitly to suppress the warning\n",
      "  warnings.warn(\n"
     ]
    },
    {
     "name": "stdout",
     "output_type": "stream",
     "text": [
      "HBOS\n",
      "COPOD\n",
      "GMM\n",
      "LODA\n",
      "IForest\n"
     ]
    }
   ],
   "source": [
    "# os.makedirs('/kaggle/working/fig1/')\n",
    "\n",
    "for folder in ['CH1-wr','CH2-wr','CH3-wr','CH4-wr']:\n",
    "    folder_path = main_path + folder\n",
    "\n",
    "    # Get a list of all text files in the folder\n",
    "    text_files = [f for f in os.listdir(folder_path) if f.endswith('.txt')]\n",
    "    print(folder)\n",
    "    print(text_files)\n",
    "    # Initialize an empty numpy array to store the dataframes\n",
    "    dfs = []\n",
    "\n",
    "    # Iterate over the text files and read their contents into dataframes\n",
    "    for i, file in enumerate(text_files):\n",
    "        file_path = os.path.join(folder_path, file)\n",
    "        df = pd.read_csv(file_path, sep='\\t', header=None, names=[str(file)])\n",
    "        dfs.append(df)\n",
    "        \n",
    "    stack_before_5_min, stack_after_30_min = before_after_split(dfs)\n",
    "#     os.makedirs('/kaggle/working/fig1/'+folder)\n",
    "    \n",
    "    print('Before 5 min')\n",
    "    print(\"Current time:\", datetime.now().strftime(\"%Y-%m-%d %H:%M:%S\"))\n",
    "    before_scale_5_min, after_scale_5_min = process_group_scores(stack_before_5_min)\n",
    "    \n",
    "    before_scale_5_min.to_csv('/kaggle/working/fig1/'+folder+'/before_scale_5_min.csv')\n",
    "    after_scale_5_min.to_csv('/kaggle/working/fig1/'+folder+'/after_scale_5_min.csv')\n",
    "\n",
    "    print('After 30 min')\n",
    "    print(\"Current time:\", datetime.now().strftime(\"%Y-%m-%d %H:%M:%S\"))\n",
    "    before_scale_30_min, after_scale_30_min = process_group_scores(stack_after_30_min)\n",
    "    \n",
    "    before_scale_30_min.to_csv('/kaggle/working/fig1/'+folder+'/before_scale_30_min.csv')\n",
    "    after_scale_30_min.to_csv('/kaggle/working/fig1/'+folder+'/after_scale_30_min.csv')\n",
    "    "
   ]
  },
  {
   "cell_type": "code",
   "execution_count": 6,
   "id": "8e3cf26a",
   "metadata": {
    "execution": {
     "iopub.execute_input": "2024-04-15T20:45:57.587939Z",
     "iopub.status.busy": "2024-04-15T20:45:57.586797Z",
     "iopub.status.idle": "2024-04-15T20:45:57.600534Z",
     "shell.execute_reply": "2024-04-15T20:45:57.598510Z"
    },
    "papermill": {
     "duration": 0.042604,
     "end_time": "2024-04-15T20:45:57.603825",
     "exception": false,
     "start_time": "2024-04-15T20:45:57.561221",
     "status": "completed"
    },
    "tags": []
   },
   "outputs": [
    {
     "data": {
      "text/plain": [
       "1"
      ]
     },
     "execution_count": 6,
     "metadata": {},
     "output_type": "execute_result"
    }
   ],
   "source": [
    "1"
   ]
  },
  {
   "cell_type": "code",
   "execution_count": null,
   "id": "d77b6daa",
   "metadata": {
    "papermill": {
     "duration": 0.020223,
     "end_time": "2024-04-15T20:45:57.646370",
     "exception": false,
     "start_time": "2024-04-15T20:45:57.626147",
     "status": "completed"
    },
    "tags": []
   },
   "outputs": [],
   "source": []
  },
  {
   "cell_type": "code",
   "execution_count": null,
   "id": "894e2828",
   "metadata": {
    "papermill": {
     "duration": 0.02185,
     "end_time": "2024-04-15T20:45:57.692963",
     "exception": false,
     "start_time": "2024-04-15T20:45:57.671113",
     "status": "completed"
    },
    "tags": []
   },
   "outputs": [],
   "source": []
  },
  {
   "cell_type": "code",
   "execution_count": null,
   "id": "bac84666",
   "metadata": {
    "papermill": {
     "duration": 0.022522,
     "end_time": "2024-04-15T20:45:57.736302",
     "exception": false,
     "start_time": "2024-04-15T20:45:57.713780",
     "status": "completed"
    },
    "tags": []
   },
   "outputs": [],
   "source": []
  },
  {
   "cell_type": "code",
   "execution_count": null,
   "id": "d478629a",
   "metadata": {
    "papermill": {
     "duration": 0.020462,
     "end_time": "2024-04-15T20:45:57.777934",
     "exception": false,
     "start_time": "2024-04-15T20:45:57.757472",
     "status": "completed"
    },
    "tags": []
   },
   "outputs": [],
   "source": []
  },
  {
   "cell_type": "code",
   "execution_count": null,
   "id": "e1f8dfcb",
   "metadata": {
    "papermill": {
     "duration": 0.022305,
     "end_time": "2024-04-15T20:45:57.819658",
     "exception": false,
     "start_time": "2024-04-15T20:45:57.797353",
     "status": "completed"
    },
    "tags": []
   },
   "outputs": [],
   "source": []
  },
  {
   "cell_type": "code",
   "execution_count": null,
   "id": "f8e1c40c",
   "metadata": {
    "papermill": {
     "duration": 0.021445,
     "end_time": "2024-04-15T20:45:57.861831",
     "exception": false,
     "start_time": "2024-04-15T20:45:57.840386",
     "status": "completed"
    },
    "tags": []
   },
   "outputs": [],
   "source": []
  },
  {
   "cell_type": "code",
   "execution_count": null,
   "id": "76e30cd6",
   "metadata": {
    "papermill": {
     "duration": 0.020392,
     "end_time": "2024-04-15T20:45:57.905449",
     "exception": false,
     "start_time": "2024-04-15T20:45:57.885057",
     "status": "completed"
    },
    "tags": []
   },
   "outputs": [],
   "source": []
  }
 ],
 "metadata": {
  "environment": {
   "kernel": "conda-root-py",
   "name": "workbench-notebooks.m119",
   "type": "gcloud",
   "uri": "us-docker.pkg.dev/deeplearning-platform-release/gcr.io/workbench-notebooks:m119"
  },
  "kaggle": {
   "accelerator": "none",
   "dataSources": [
    {
     "datasetId": 4797099,
     "sourceId": 8118842,
     "sourceType": "datasetVersion"
    }
   ],
   "dockerImageVersionId": 30684,
   "isGpuEnabled": false,
   "isInternetEnabled": true,
   "language": "python",
   "sourceType": "notebook"
  },
  "kernelspec": {
   "display_name": "Python 3",
   "language": "python",
   "name": "python3"
  },
  "language_info": {
   "codemirror_mode": {
    "name": "ipython",
    "version": 3
   },
   "file_extension": ".py",
   "mimetype": "text/x-python",
   "name": "python",
   "nbconvert_exporter": "python",
   "pygments_lexer": "ipython3",
   "version": "3.10.13"
  },
  "papermill": {
   "default_parameters": {},
   "duration": 5077.70067,
   "end_time": "2024-04-15T20:45:59.781054",
   "environment_variables": {},
   "exception": null,
   "input_path": "__notebook__.ipynb",
   "output_path": "__notebook__.ipynb",
   "parameters": {},
   "start_time": "2024-04-15T19:21:22.080384",
   "version": "2.5.0"
  }
 },
 "nbformat": 4,
 "nbformat_minor": 5
}
